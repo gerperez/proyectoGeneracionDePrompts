{
 "cells": [
  {
   "cell_type": "code",
   "execution_count": 11,
   "id": "3033e333-9d05-4750-89ce-2e3b0cc24566",
   "metadata": {},
   "outputs": [],
   "source": [
    "import openai"
   ]
  },
  {
   "cell_type": "code",
   "execution_count": 13,
   "id": "04d0908f-b324-4a53-883d-ae2a226e698b",
   "metadata": {},
   "outputs": [],
   "source": [
    "openai.api_key = \"\""
   ]
  },
  {
   "cell_type": "code",
   "execution_count": 14,
   "id": "8aa9fb09-bb5e-4d87-9a09-ab73c915b953",
   "metadata": {},
   "outputs": [],
   "source": [
    "context = \"Eres un un asistente de inversiones que debe asesorar a sus clientes en que invertir. En base a tres tipos de inversiones, alto riesgo, riego moderado y bajo riesgo, has una propuesta de inversion o en cryptomonedas o en mercado de capitales. Indica que tipo de inversion es y su crecimiento anual esperada\""
   ]
  },
  {
   "cell_type": "code",
   "execution_count": 15,
   "id": "5d8ed847-3350-474d-9ac2-97aef13f12f1",
   "metadata": {},
   "outputs": [
    {
     "name": "stdin",
     "output_type": "stream",
     "text": [
      "¿Quieres invertir? (Y/N):  Y\n",
      "¿Qué tipo de inversión quieres hacer (Alto riesgo, riesgo moderado, bajo riesgo? (A/M/B):  A\n",
      "¿Qué tipo de inversión quieres hacer? (Crypto, Mercado de capitales):  crypto\n"
     ]
    },
    {
     "name": "stdout",
     "output_type": "stream",
     "text": [
      "crypto\n"
     ]
    },
    {
     "name": "stdin",
     "output_type": "stream",
     "text": [
      "¿Qué crecimiento anual esperas?  10\n"
     ]
    },
    {
     "name": "stdout",
     "output_type": "stream",
     "text": [
      "10\n",
      "Soy un inversor de Alto riesgo. Necesito algunas recomendaciones sobre crypto con un crecimiento anual alrededor de 10%. Recomiéndame 5 posibles inversiones.\n"
     ]
    },
    {
     "name": "stdin",
     "output_type": "stream",
     "text": [
      "¿Quieres invertir? (Y/N):  i\n"
     ]
    },
    {
     "name": "stdout",
     "output_type": "stream",
     "text": [
      "Gracias por usar el asistente de inversiones. ¡Espero pronto te animes a invertir!\n"
     ]
    }
   ],
   "source": [
    "continue_loop = True\n",
    "\n",
    "while continue_loop:  # Inicia el bucle principal\n",
    "    # Preguntar al usuario\n",
    "    reason = input(\"¿Quieres invertir? (Y/N): \")\n",
    "    \n",
    "    if reason.upper() == \"Y\":\n",
    "        kind_of_issue = input(\"¿Qué tipo de inversión quieres hacer (Alto riesgo, riesgo moderado, bajo riesgo? (A/M/B): \")\n",
    "        if kind_of_issue.upper() == \"A\": \n",
    "            problem = \"Alto riesgo\"\n",
    "        elif kind_of_issue.upper() == \"M\":\n",
    "            problem = \"Riesgo Moderado\"\n",
    "        elif kind_of_issue.upper() == \"B\":\n",
    "            problem = \"Bajo riesgo\"\n",
    "        else:\n",
    "            print(\"Opción no válida. Saliendo...\")\n",
    "            continue_loop = False  # Salir del bucle\n",
    "    else:\n",
    "        print(\"Gracias por usar el asistente de inversiones. ¡Espero pronto te animes a invertir!\")\n",
    "        continue_loop = False  # Salir del bucle\n",
    "        break  # Termina el bucle\n",
    "\n",
    "    # Más preguntas\n",
    "    tipo_inversion = input(\"¿Qué tipo de inversión quieres hacer? (Crypto, Mercado de capitales): \")\n",
    "    print(tipo_inversion)\n",
    "\n",
    "    crecimiento = input(\"¿Qué crecimiento anual esperas? \")\n",
    "    print(crecimiento)\n",
    "\n",
    "    # Compilar las respuestas\n",
    "    prompt = f\"Soy un inversor de {problem}. Necesito algunas recomendaciones sobre {tipo_inversion} con un crecimiento anual alrededor de {crecimiento}%. Recomiéndame 5 posibles inversiones.\"\n",
    "    print(prompt)\n",
    "\n",
    "while continue_loop:\n",
    "\n",
    "    # Make the request\n",
    "    conversation = [\n",
    "    {\"role\": \"system\", \"content\": context},\n",
    "    {\"role\": \"user\", \"content\": prompt}\n",
    "    ]\n",
    "\n",
    "    response = openai.ChatCompletion.create(\n",
    "    model='gpt-3.5-turbo',\n",
    "    messages=conversation,\n",
    "    max_tokens=4000\n",
    "    )\n",
    "\n",
    "    #Storage the response in a variable to use it\n",
    "    investment = response['choices'][0]['message']['content'].strip()\n",
    "    \n",
    "    #Use the variable\n",
    "    print(investment)"
   ]
  },
  {
   "cell_type": "code",
   "execution_count": null,
   "id": "c667f546-32ab-43ee-902f-d433ed5338cf",
   "metadata": {},
   "outputs": [],
   "source": []
  },
  {
   "cell_type": "code",
   "execution_count": null,
   "id": "aa310fac-04ae-4c1e-8465-52a4da1c056d",
   "metadata": {},
   "outputs": [],
   "source": []
  }
 ],
 "metadata": {
  "kernelspec": {
   "display_name": "Python 3 (ipykernel)",
   "language": "python",
   "name": "python3"
  },
  "language_info": {
   "codemirror_mode": {
    "name": "ipython",
    "version": 3
   },
   "file_extension": ".py",
   "mimetype": "text/x-python",
   "name": "python",
   "nbconvert_exporter": "python",
   "pygments_lexer": "ipython3",
   "version": "3.10.15"
  }
 },
 "nbformat": 4,
 "nbformat_minor": 5
}
