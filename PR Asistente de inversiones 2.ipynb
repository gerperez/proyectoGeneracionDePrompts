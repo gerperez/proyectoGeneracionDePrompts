{
 "cells": [
  {
   "cell_type": "code",
   "execution_count": 28,
   "id": "3033e333-9d05-4750-89ce-2e3b0cc24566",
   "metadata": {},
   "outputs": [],
   "source": [
    "import openai"
   ]
  },
  {
   "cell_type": "code",
   "execution_count": 29,
   "id": "04d0908f-b324-4a53-883d-ae2a226e698b",
   "metadata": {},
   "outputs": [],
   "source": [
    "openai.api_key = \"\""
   ]
  },
  {
   "cell_type": "code",
   "execution_count": 30,
   "id": "8aa9fb09-bb5e-4d87-9a09-ab73c915b953",
   "metadata": {},
   "outputs": [],
   "source": [
    "context = \"Eres un un asistente de inversiones que debe asesorar a sus clientes en que invertir. En base a tres tipos de inversiones, alto riesgo, riego moderado y bajo riesgo, has una propuesta de inversion o en cryptomonedas o en mercado de capitales. Indica que tipo de inversion es y su crecimiento anual esperada\""
   ]
  },
  {
   "cell_type": "code",
   "execution_count": null,
   "id": "5d8ed847-3350-474d-9ac2-97aef13f12f1",
   "metadata": {
    "scrolled": true
   },
   "outputs": [
    {
     "name": "stdin",
     "output_type": "stream",
     "text": [
      "¿Quieres invertir? (Y/N):  y\n",
      "¿Qué tipo de inversión quieres hacer (Alto riesgo, riesgo moderado, bajo riesgo)? (A/M/B):  a\n",
      "¿Qué tipo de inversión quieres hacer? (Crypto, Mercado de capitales):  crypto\n",
      "¿Cuál es el período en MESES que deseas invertir?  12\n",
      "¿Cuál es el monto inicial de la inversión?  1000usd\n"
     ]
    },
    {
     "name": "stdout",
     "output_type": "stream",
     "text": [
      "Soy un inversor de Alto riesgo. Voy a invertir en crypto durante un período de 12 meses, con una inversión inicial de 1000usd. Arma un plan de inversiones.\n",
      "\n",
      "Plan de inversión generado:\n",
      "Como inversor de alto riesgo, es importante tener en cuenta la volatilidad y el riesgo asociados con las inversiones en criptomonedas. A continuación te sugiero un posible plan de inversiones para un período de 12 meses con una inversión inicial de 1000 USD:\n",
      "\n",
      "1. **Meses 1-3**: \n",
      "   - Invierte 300 USD en Bitcoin (BTC)\n",
      "   - Invierte 200 USD en Ethereum (ETH)\n",
      "   - Invierte 100 USD en Binance Coin (BNB)\n",
      "   - Mantén 400 USD en efectivo para oportunidades futuras\n",
      "\n",
      "2. **Meses 4-6**:\n",
      "   - Reevalúa tus inversiones actuales y considera la posibilidad de diversificar tu cartera con otras criptomonedas de alto potencial.\n",
      "   - Puedes considerar invertir 150 USD en altcoins prometedoras como Cardano (ADA), Solana (SOL), Polkadot (DOT), o alguna otra de tu elección.\n",
      "   - Mantén 350 USD en efectivo para ajustes en tu cartera.\n",
      "\n",
      "3. **Meses 7-9**:\n",
      "   - Continúa monitoreando el mercado y realiza ajustes según sea necesario.\n",
      "   - Podrías considerar añadir 100 USD adicionales a tus inversiones en Bitcoin y Ethereum, aprovechando las tendencias del mercado.\n",
      "   - Mantén 300 USD en efectivo para oportunidades de compra o para mitigar riesgos.\n",
      "\n",
      "4. **Meses 10-12**:\n",
      "   - Evalúa el rendimiento de tu cartera hasta el momento y decide si es necesario realizar cambios significativos.\n",
      "   - Puedes considerar aumentar tu exposición a criptomonedas más estables como Bitcoin, Ethereum o alguna otra criptomoneda líder.\n",
      "   - Mantén 250 USD en efectivo como reserva de emergencia o para aprovechar oportunidades especiales en el mercado.\n",
      "\n",
      "Recuerda que las inversiones en criptomonedas son altamente volátiles y pueden traer ganancias significativas, pero también pérdidas considerable. Es crucial diversificar tu cartera, monitorear el mercado y estar preparado para ajustar tu estrategia de inversión en función de las condiciones del mercado. Siempre es recomendable consultar con un asesor financiero antes de realizar inversiones de alto riesgo.\n"
     ]
    },
    {
     "name": "stdin",
     "output_type": "stream",
     "text": [
      "¿Quieres generar un gráfico que represente un estimado del crecimiento de la inversión? (Y/N):  y\n"
     ]
    },
    {
     "name": "stdout",
     "output_type": "stream",
     "text": [
      "\n",
      "Gráfico generado: https://oaidalleapiprodscus.blob.core.windows.net/private/org-53jxrRnDCFtrA04j9xpTs5EY/user-Ln9oZ1MSJ9IqaNattSBZ9uiS/img-73qBBIKXbg4WCjP3bHd5TStp.png?st=2024-12-20T21%3A39%3A06Z&se=2024-12-20T23%3A39%3A06Z&sp=r&sv=2024-08-04&sr=b&rscd=inline&rsct=image/png&skoid=d505667d-d6c1-4a0a-bac7-5c84a87759f8&sktid=a48cca56-e6da-484e-a814-9c849652bcb3&skt=2024-12-20T19%3A28%3A04Z&ske=2024-12-21T19%3A28%3A04Z&sks=b&skv=2024-08-04&sig=ZkLQons8w/A5RAPCPYMrBEMAGgoKGHquceKrx4jT3FI%3D\n"
     ]
    }
   ],
   "source": [
    "continue_loop = True\n",
    "\n",
    "while continue_loop:\n",
    "    # Preguntar al usuario\n",
    "    reason = input(\"¿Quieres invertir? (Y/N): \").strip().upper()\n",
    "    \n",
    "    if reason == \"Y\":\n",
    "        kind_of_issue = input(\"¿Qué tipo de inversión quieres hacer (Alto riesgo, riesgo moderado, bajo riesgo)? (A/M/B): \").strip().upper()\n",
    "        if kind_of_issue == \"A\": \n",
    "            problem = \"Alto riesgo\"\n",
    "        elif kind_of_issue == \"M\":\n",
    "            problem = \"Riesgo Moderado\"\n",
    "        elif kind_of_issue == \"B\":\n",
    "            problem = \"Bajo riesgo\"\n",
    "        else:\n",
    "            print(\"Opción no válida. Saliendo...\")\n",
    "            continue_loop = False\n",
    "            continue\n",
    "\n",
    "        tipo_inversion = input(\"¿Qué tipo de inversión quieres hacer? (Crypto, Mercado de capitales): \").strip()\n",
    "        tiempo = input(\"¿Cuál es el período en MESES que deseas invertir? \").strip()\n",
    "        down_payment = input(\"¿Cuál es el monto inicial de la inversión? \").strip()\n",
    "\n",
    "        # Compilar las respuestas\n",
    "        prompt = (\n",
    "            f\"Soy un inversor de {problem}. Voy a invertir en {tipo_inversion} durante un período de {tiempo} meses, \"\n",
    "            f\"con una inversión inicial de {down_payment}. Arma un plan de inversiones.\"\n",
    "        )\n",
    "        print(prompt)\n",
    "\n",
    "        # Solicitar el plan de inversión\n",
    "        conversation = [\n",
    "            {\"role\": \"system\", \"content\": \"Eres un asistente financiero experto.\"},\n",
    "            {\"role\": \"user\", \"content\": prompt}\n",
    "        ]\n",
    "\n",
    "        try:\n",
    "            response = openai.ChatCompletion.create(\n",
    "                model='gpt-3.5-turbo',\n",
    "                messages=conversation,\n",
    "                max_tokens=4000\n",
    "            )\n",
    "\n",
    "            # Almacenar y mostrar la respuesta del plan de inversión\n",
    "            investment = response['choices'][0]['message']['content'].strip()\n",
    "            print(f\"\\nPlan de inversión generado:\\n{investment}\")\n",
    "\n",
    "        except Exception as e:\n",
    "            print(f\"Hubo un error al generar el plan de inversión: {e}\")\n",
    "            continue\n",
    "\n",
    "        # Preguntar si se desea generar un gráfico\n",
    "        grafico = input(\"¿Quieres generar un gráfico que represente un estimado del crecimiento de la inversión? (Y/N): \").strip().upper()\n",
    "        \n",
    "        if grafico == \"Y\":\n",
    "            try:\n",
    "                # Crear un prompt resumido para el gráfico\n",
    "                image_prompt = (\n",
    "                    f\"Gráfico profesional del crecimiento estimado de una inversión inicial de ${down_payment}, \"\n",
    "                    f\"con un período de {tiempo} meses, basado en el plan: {investment[:500]}. \"\n",
    "                    f\"Eje X: meses (1 a {tiempo}). Eje Y: monto acumulado. Diseño limpio y claro.\"\n",
    "                )\n",
    "\n",
    "                # Verificar longitud del prompt\n",
    "                if len(image_prompt) > 1000:\n",
    "                    image_prompt = image_prompt[:997] + \"...\"  # Recortar si excede el límite\n",
    "\n",
    "                # Solicitar la creación de la imagen\n",
    "                image_response = openai.Image.create(\n",
    "                    prompt=image_prompt,\n",
    "                    n=1,\n",
    "                    size=\"1024x1024\"\n",
    "                )\n",
    "\n",
    "                # Mostrar la URL de la imagen generada\n",
    "                image_url = image_response['data'][0]['url']\n",
    "                print(f\"\\nGráfico generado: {image_url}\")\n",
    "\n",
    "            except Exception as e:\n",
    "                print(f\"Hubo un error al generar el gráfico: {e}\")\n",
    "        else:\n",
    "            print(\"No se generará ningún gráfico.\")\n",
    "\n",
    "    elif reason == \"N\":\n",
    "        print(\"Gracias por usar el asistente de inversiones. ¡Espero pronto te animes a invertir!\")\n",
    "        continue_loop = False\n",
    "    else:\n",
    "        print(\"Opción no válida. Por favor, ingresa Y o N.\")"
   ]
  },
  {
   "cell_type": "code",
   "execution_count": null,
   "id": "c667f546-32ab-43ee-902f-d433ed5338cf",
   "metadata": {},
   "outputs": [],
   "source": []
  },
  {
   "cell_type": "code",
   "execution_count": null,
   "id": "aa310fac-04ae-4c1e-8465-52a4da1c056d",
   "metadata": {},
   "outputs": [],
   "source": []
  }
 ],
 "metadata": {
  "kernelspec": {
   "display_name": "Python 3 (ipykernel)",
   "language": "python",
   "name": "python3"
  },
  "language_info": {
   "codemirror_mode": {
    "name": "ipython",
    "version": 3
   },
   "file_extension": ".py",
   "mimetype": "text/x-python",
   "name": "python",
   "nbconvert_exporter": "python",
   "pygments_lexer": "ipython3",
   "version": "3.10.15"
  }
 },
 "nbformat": 4,
 "nbformat_minor": 5
}
